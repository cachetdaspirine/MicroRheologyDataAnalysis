{
 "cells": [
  {
   "cell_type": "code",
   "execution_count": 1,
   "metadata": {},
   "outputs": [],
   "source": [
    "import Import_And_Curate_Data as IACD\n",
    "import Compute_Chi as Chi\n",
    "import numpy as np\n",
    "import matplotlib.pyplot as plt\n",
    "import Interface as Int\n",
    "%matplotlib qt"
   ]
  },
  {
   "cell_type": "code",
   "execution_count": 2,
   "metadata": {},
   "outputs": [],
   "source": [
    "# Parameters for the drag of the droplet :\n",
    "#diameter of the droplet\n",
    "R = 10**-6 # m\n",
    "#viscosity of the buffer\n",
    "eta = 10**-3  #Pa.s\n",
    "#drag coefficient of the droplet in this buffer\n",
    "xi = 6 * np.pi * eta * R"
   ]
  },
  {
   "cell_type": "code",
   "execution_count": 3,
   "metadata": {},
   "outputs": [],
   "source": [
    "# enter the list of files :\n",
    "files = [\"/home/hcleroy/PostDoc/microrheology/Data/*\"]\n",
    "# make a list of python object to compute Chi:\n",
    "systems = Int.setup_systems(files,xi)"
   ]
  },
  {
   "cell_type": "markdown",
   "metadata": {},
   "source": [
    "## List of functions\n",
    "- Compute the Chi\n",
    "- Choose an interval\n",
    "- return the fitting parameters : list [frequency,phase,amplitude]"
   ]
  },
  {
   "cell_type": "code",
   "execution_count": 4,
   "metadata": {},
   "outputs": [
    {
     "data": {
      "text/plain": [
       "array([[5.e+01, 0.e+00, 5.e-07]])"
      ]
     },
     "execution_count": 4,
     "metadata": {},
     "output_type": "execute_result"
    }
   ],
   "source": [
    "# this function returns a list of fitting parameters. Each line is a triplet of number : frequency, phase, amplitude\n",
    "# if an additional string is provided, the function output it in a file.\n",
    "Int.fitting_parameters(systems)"
   ]
  },
  {
   "cell_type": "code",
   "execution_count": 5,
   "metadata": {},
   "outputs": [],
   "source": [
    "# This function selects range of data that is interesting for each file that has been given\n",
    "# you must close the windows for the parameter to be set\n",
    "# if you set ShowResults to True it will show the truncated data\n",
    "Int.select_range(systems)#,ShowResults=True)"
   ]
  },
  {
   "cell_type": "code",
   "execution_count": 6,
   "metadata": {},
   "outputs": [],
   "source": [
    "# systems[i] returns an object associated to the ith file that you entered.\n",
    "# If you want to give them names instead of indexs it's possible, just tell me \n",
    "# how you want to assign the names.\n",
    "# the .show_fit() function shows the fit for the force 1 and 2 independently for the given system\n",
    "systems[0].show_fit()"
   ]
  },
  {
   "cell_type": "code",
   "execution_count": 4,
   "metadata": {},
   "outputs": [
    {
     "name": "stdout",
     "output_type": "stream",
     "text": [
      "[50.0, 0.0004725774327294189, 0.0002730802075728226]\n"
     ]
    }
   ],
   "source": [
    "# output the value of the frequency, chi', chi''.\n",
    "# it is possible to add a header, and this kind of things, tell me what you need.\n",
    "# if output_file is not provided, the function just returns the \n",
    "output_file = 'output.csv'\n",
    "Int.compute_chi(systems,output_file)"
   ]
  },
  {
   "cell_type": "code",
   "execution_count": null,
   "metadata": {},
   "outputs": [],
   "source": []
  }
 ],
 "metadata": {
  "kernelspec": {
   "display_name": "base",
   "language": "python",
   "name": "python3"
  },
  "language_info": {
   "codemirror_mode": {
    "name": "ipython",
    "version": 3
   },
   "file_extension": ".py",
   "mimetype": "text/x-python",
   "name": "python",
   "nbconvert_exporter": "python",
   "pygments_lexer": "ipython3",
   "version": "3.8.8"
  },
  "orig_nbformat": 4
 },
 "nbformat": 4,
 "nbformat_minor": 2
}
